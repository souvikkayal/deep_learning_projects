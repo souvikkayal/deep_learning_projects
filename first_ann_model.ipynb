{
  "nbformat": 4,
  "nbformat_minor": 0,
  "metadata": {
    "colab": {
      "name": "first_ann_model.ipynb",
      "provenance": []
    },
    "kernelspec": {
      "name": "python3",
      "display_name": "Python 3"
    }
  },
  "cells": [
    {
      "cell_type": "code",
      "metadata": {
        "id": "Ab2TR68xMUhP",
        "colab_type": "code",
        "colab": {
          "base_uri": "https://localhost:8080/",
          "height": 34
        },
        "outputId": "b0da0583-4a31-4866-b6c9-fff3df20df6b"
      },
      "source": [
        "from google.colab import drive\n",
        "drive.mount('/content/drive/')"
      ],
      "execution_count": 17,
      "outputs": [
        {
          "output_type": "stream",
          "text": [
            "Drive already mounted at /content/drive/; to attempt to forcibly remount, call drive.mount(\"/content/drive/\", force_remount=True).\n"
          ],
          "name": "stdout"
        }
      ]
    },
    {
      "cell_type": "code",
      "metadata": {
        "id": "rkAPNspsNtur",
        "colab_type": "code",
        "colab": {}
      },
      "source": [
        "!pip install -q keras"
      ],
      "execution_count": 19,
      "outputs": []
    },
    {
      "cell_type": "code",
      "metadata": {
        "id": "Rc6TfS--QDRD",
        "colab_type": "code",
        "colab": {}
      },
      "source": [
        "import keras"
      ],
      "execution_count": 20,
      "outputs": []
    },
    {
      "cell_type": "code",
      "metadata": {
        "id": "v1gAfAPOQjx3",
        "colab_type": "code",
        "colab": {}
      },
      "source": [
        "import numpy as np\n",
        "import matplotlib.pyplot as plt\n",
        "import pandas as pd\n",
        "import tensorflow as tf"
      ],
      "execution_count": 35,
      "outputs": []
    },
    {
      "cell_type": "code",
      "metadata": {
        "id": "eUf3S_AIWGz6",
        "colab_type": "code",
        "colab": {}
      },
      "source": [
        "#importing the dataset\n",
        "dataset = pd.read_csv('/content/drive/My Drive/Colab Notebooks/deep learning a-z/ann resource file/Churn_Modelling.csv')\n",
        "X = dataset.iloc[:,3:13].values\n",
        "y = dataset.iloc[:,13].values"
      ],
      "execution_count": 52,
      "outputs": []
    },
    {
      "cell_type": "code",
      "metadata": {
        "id": "7YVm0_9CcAVo",
        "colab_type": "code",
        "colab": {}
      },
      "source": [
        "#encoding categorical data\n",
        "from sklearn.preprocessing import LabelEncoder\n",
        "from sklearn.compose import ColumnTransformer\n",
        "labelencoder_X_1 = LabelEncoder()\n",
        "X[:,1] = labelencoder_X_1.fit_transform(X[:,1])\n",
        "labelencoder_X_2 = LabelEncoder()\n",
        "X[:,2] = labelencoder_X_2.fit_transform(X[:,2])\n",
        "ct = ColumnTransformer(transformers=[('encoder', OneHotEncoder(), [1])], remainder='passthrough')\n",
        "X = np.array(ct.fit_transform(X))\n",
        "X = X[:,1:]"
      ],
      "execution_count": 53,
      "outputs": []
    },
    {
      "cell_type": "code",
      "metadata": {
        "id": "qVXXmujGhYj1",
        "colab_type": "code",
        "colab": {
          "base_uri": "https://localhost:8080/",
          "height": 134
        },
        "outputId": "422af167-4a0c-4ac1-a93c-449cd30bca6e"
      },
      "source": [
        "print(X)"
      ],
      "execution_count": 54,
      "outputs": [
        {
          "output_type": "stream",
          "text": [
            "[[0.0 0.0 619 ... 1 1 101348.88]\n",
            " [0.0 1.0 608 ... 0 1 112542.58]\n",
            " [0.0 0.0 502 ... 1 0 113931.57]\n",
            " ...\n",
            " [0.0 0.0 709 ... 0 1 42085.58]\n",
            " [1.0 0.0 772 ... 1 0 92888.52]\n",
            " [0.0 0.0 792 ... 1 0 38190.78]]\n"
          ],
          "name": "stdout"
        }
      ]
    },
    {
      "cell_type": "markdown",
      "metadata": {
        "id": "j1tGzm8IhuOD",
        "colab_type": "text"
      },
      "source": [
        "Splitting the dataset into the Training set and Test set\n"
      ]
    },
    {
      "cell_type": "code",
      "metadata": {
        "id": "zZ7KFXCohhbQ",
        "colab_type": "code",
        "colab": {}
      },
      "source": [
        "from sklearn.model_selection import train_test_split\n",
        "X_train, X_test, y_train, y_test = train_test_split(X, y, test_size = 0.2, random_state = 0)"
      ],
      "execution_count": 55,
      "outputs": []
    },
    {
      "cell_type": "code",
      "metadata": {
        "id": "i6yx2jnmhiI-",
        "colab_type": "code",
        "colab": {}
      },
      "source": [
        "#Feature Scaling\n",
        "from sklearn.preprocessing import StandardScaler\n",
        "sc = StandardScaler()\n",
        "X_train = sc.fit_transform(X_train)\n",
        "X_test = sc.transform(X_test)"
      ],
      "execution_count": 56,
      "outputs": []
    },
    {
      "cell_type": "code",
      "metadata": {
        "id": "cXAdes0KiXTw",
        "colab_type": "code",
        "colab": {}
      },
      "source": [
        "#Initializing the ANN\n",
        "ann = tf.keras.models.Sequential()"
      ],
      "execution_count": 57,
      "outputs": []
    },
    {
      "cell_type": "code",
      "metadata": {
        "id": "ntu8ZmcriXj5",
        "colab_type": "code",
        "colab": {}
      },
      "source": [
        "#Adding the input layer and the first hidden layer\n",
        "ann.add(tf.keras.layers.Dense(units=6, activation='relu'))"
      ],
      "execution_count": 58,
      "outputs": []
    },
    {
      "cell_type": "code",
      "metadata": {
        "id": "iAHSyzXliXws",
        "colab_type": "code",
        "colab": {}
      },
      "source": [
        "#Adding the second hidden layer\n",
        "ann.add(tf.keras.layers.Dense(units=6, activation='relu'))"
      ],
      "execution_count": 59,
      "outputs": []
    },
    {
      "cell_type": "code",
      "metadata": {
        "id": "TqazB6QhiX6l",
        "colab_type": "code",
        "colab": {}
      },
      "source": [
        "#Adding the output layer\n",
        "ann.add(tf.keras.layers.Dense(units=1, activation='sigmoid'))"
      ],
      "execution_count": 60,
      "outputs": []
    },
    {
      "cell_type": "code",
      "metadata": {
        "id": "oqnT64u5jE_o",
        "colab_type": "code",
        "colab": {}
      },
      "source": [
        "#Compiling the ANN\n",
        "ann.compile(optimizer = 'adam', loss = 'binary_crossentropy', metrics = ['accuracy'])"
      ],
      "execution_count": 61,
      "outputs": []
    },
    {
      "cell_type": "code",
      "metadata": {
        "id": "qqPyu6sRjFKE",
        "colab_type": "code",
        "colab": {
          "base_uri": "https://localhost:8080/",
          "height": 1000
        },
        "outputId": "9cfb21c9-9311-49f1-b8b2-b408ec25b067"
      },
      "source": [
        "#Training the ANN on the Training set\n",
        "ann.fit(X_train, y_train, batch_size = 32, epochs = 100)"
      ],
      "execution_count": 62,
      "outputs": [
        {
          "output_type": "stream",
          "text": [
            "Epoch 1/100\n",
            "250/250 [==============================] - 0s 893us/step - loss: 0.7525 - accuracy: 0.5181\n",
            "Epoch 2/100\n",
            "250/250 [==============================] - 0s 859us/step - loss: 0.4909 - accuracy: 0.7946\n",
            "Epoch 3/100\n",
            "250/250 [==============================] - 0s 875us/step - loss: 0.4541 - accuracy: 0.7961\n",
            "Epoch 4/100\n",
            "250/250 [==============================] - 0s 878us/step - loss: 0.4343 - accuracy: 0.8004\n",
            "Epoch 5/100\n",
            "250/250 [==============================] - 0s 900us/step - loss: 0.4222 - accuracy: 0.8059\n",
            "Epoch 6/100\n",
            "250/250 [==============================] - 0s 925us/step - loss: 0.4128 - accuracy: 0.8124\n",
            "Epoch 7/100\n",
            "250/250 [==============================] - 0s 888us/step - loss: 0.4040 - accuracy: 0.8195\n",
            "Epoch 8/100\n",
            "250/250 [==============================] - 0s 921us/step - loss: 0.3949 - accuracy: 0.8281\n",
            "Epoch 9/100\n",
            "250/250 [==============================] - 0s 897us/step - loss: 0.3855 - accuracy: 0.8420\n",
            "Epoch 10/100\n",
            "250/250 [==============================] - 0s 924us/step - loss: 0.3773 - accuracy: 0.8475\n",
            "Epoch 11/100\n",
            "250/250 [==============================] - 0s 952us/step - loss: 0.3700 - accuracy: 0.8528\n",
            "Epoch 12/100\n",
            "250/250 [==============================] - 0s 879us/step - loss: 0.3643 - accuracy: 0.8537\n",
            "Epoch 13/100\n",
            "250/250 [==============================] - 0s 926us/step - loss: 0.3600 - accuracy: 0.8562\n",
            "Epoch 14/100\n",
            "250/250 [==============================] - 0s 1ms/step - loss: 0.3561 - accuracy: 0.8571\n",
            "Epoch 15/100\n",
            "250/250 [==============================] - 0s 915us/step - loss: 0.3527 - accuracy: 0.8565\n",
            "Epoch 16/100\n",
            "250/250 [==============================] - 0s 879us/step - loss: 0.3505 - accuracy: 0.8587\n",
            "Epoch 17/100\n",
            "250/250 [==============================] - 0s 917us/step - loss: 0.3481 - accuracy: 0.8589\n",
            "Epoch 18/100\n",
            "250/250 [==============================] - 0s 912us/step - loss: 0.3465 - accuracy: 0.8601\n",
            "Epoch 19/100\n",
            "250/250 [==============================] - 0s 906us/step - loss: 0.3448 - accuracy: 0.8589\n",
            "Epoch 20/100\n",
            "250/250 [==============================] - 0s 886us/step - loss: 0.3436 - accuracy: 0.8602\n",
            "Epoch 21/100\n",
            "250/250 [==============================] - 0s 876us/step - loss: 0.3425 - accuracy: 0.8600\n",
            "Epoch 22/100\n",
            "250/250 [==============================] - 0s 954us/step - loss: 0.3412 - accuracy: 0.8609\n",
            "Epoch 23/100\n",
            "250/250 [==============================] - 0s 892us/step - loss: 0.3409 - accuracy: 0.8615\n",
            "Epoch 24/100\n",
            "250/250 [==============================] - 0s 934us/step - loss: 0.3400 - accuracy: 0.8609\n",
            "Epoch 25/100\n",
            "250/250 [==============================] - 0s 952us/step - loss: 0.3396 - accuracy: 0.8637\n",
            "Epoch 26/100\n",
            "250/250 [==============================] - 0s 888us/step - loss: 0.3389 - accuracy: 0.8622\n",
            "Epoch 27/100\n",
            "250/250 [==============================] - 0s 963us/step - loss: 0.3385 - accuracy: 0.8624\n",
            "Epoch 28/100\n",
            "250/250 [==============================] - 0s 903us/step - loss: 0.3382 - accuracy: 0.8621\n",
            "Epoch 29/100\n",
            "250/250 [==============================] - 0s 862us/step - loss: 0.3378 - accuracy: 0.8627\n",
            "Epoch 30/100\n",
            "250/250 [==============================] - 0s 919us/step - loss: 0.3376 - accuracy: 0.8633\n",
            "Epoch 31/100\n",
            "250/250 [==============================] - 0s 924us/step - loss: 0.3375 - accuracy: 0.8634\n",
            "Epoch 32/100\n",
            "250/250 [==============================] - 0s 921us/step - loss: 0.3374 - accuracy: 0.8629\n",
            "Epoch 33/100\n",
            "250/250 [==============================] - 0s 870us/step - loss: 0.3368 - accuracy: 0.8636\n",
            "Epoch 34/100\n",
            "250/250 [==============================] - 0s 879us/step - loss: 0.3371 - accuracy: 0.8627\n",
            "Epoch 35/100\n",
            "250/250 [==============================] - 0s 885us/step - loss: 0.3364 - accuracy: 0.8631\n",
            "Epoch 36/100\n",
            "250/250 [==============================] - 0s 904us/step - loss: 0.3363 - accuracy: 0.8622\n",
            "Epoch 37/100\n",
            "250/250 [==============================] - 0s 873us/step - loss: 0.3361 - accuracy: 0.8629\n",
            "Epoch 38/100\n",
            "250/250 [==============================] - 0s 952us/step - loss: 0.3359 - accuracy: 0.8621\n",
            "Epoch 39/100\n",
            "250/250 [==============================] - 0s 914us/step - loss: 0.3357 - accuracy: 0.8622\n",
            "Epoch 40/100\n",
            "250/250 [==============================] - 0s 910us/step - loss: 0.3353 - accuracy: 0.8629\n",
            "Epoch 41/100\n",
            "250/250 [==============================] - 0s 917us/step - loss: 0.3350 - accuracy: 0.8636\n",
            "Epoch 42/100\n",
            "250/250 [==============================] - 0s 866us/step - loss: 0.3349 - accuracy: 0.8637\n",
            "Epoch 43/100\n",
            "250/250 [==============================] - 0s 860us/step - loss: 0.3349 - accuracy: 0.8630\n",
            "Epoch 44/100\n",
            "250/250 [==============================] - 0s 898us/step - loss: 0.3347 - accuracy: 0.8634\n",
            "Epoch 45/100\n",
            "250/250 [==============================] - 0s 882us/step - loss: 0.3347 - accuracy: 0.8639\n",
            "Epoch 46/100\n",
            "250/250 [==============================] - 0s 927us/step - loss: 0.3343 - accuracy: 0.8633\n",
            "Epoch 47/100\n",
            "250/250 [==============================] - 0s 894us/step - loss: 0.3344 - accuracy: 0.8639\n",
            "Epoch 48/100\n",
            "250/250 [==============================] - 0s 880us/step - loss: 0.3341 - accuracy: 0.8636\n",
            "Epoch 49/100\n",
            "250/250 [==============================] - 0s 928us/step - loss: 0.3338 - accuracy: 0.8649\n",
            "Epoch 50/100\n",
            "250/250 [==============================] - 0s 901us/step - loss: 0.3342 - accuracy: 0.8634\n",
            "Epoch 51/100\n",
            "250/250 [==============================] - 0s 899us/step - loss: 0.3342 - accuracy: 0.8627\n",
            "Epoch 52/100\n",
            "250/250 [==============================] - 0s 872us/step - loss: 0.3338 - accuracy: 0.8633\n",
            "Epoch 53/100\n",
            "250/250 [==============================] - 0s 879us/step - loss: 0.3338 - accuracy: 0.8630\n",
            "Epoch 54/100\n",
            "250/250 [==============================] - 0s 918us/step - loss: 0.3337 - accuracy: 0.8631\n",
            "Epoch 55/100\n",
            "250/250 [==============================] - 0s 897us/step - loss: 0.3336 - accuracy: 0.8650\n",
            "Epoch 56/100\n",
            "250/250 [==============================] - 0s 898us/step - loss: 0.3333 - accuracy: 0.8641\n",
            "Epoch 57/100\n",
            "250/250 [==============================] - 0s 914us/step - loss: 0.3334 - accuracy: 0.8621\n",
            "Epoch 58/100\n",
            "250/250 [==============================] - 0s 894us/step - loss: 0.3336 - accuracy: 0.8639\n",
            "Epoch 59/100\n",
            "250/250 [==============================] - 0s 872us/step - loss: 0.3332 - accuracy: 0.8639\n",
            "Epoch 60/100\n",
            "250/250 [==============================] - 0s 866us/step - loss: 0.3329 - accuracy: 0.8639\n",
            "Epoch 61/100\n",
            "250/250 [==============================] - 0s 922us/step - loss: 0.3333 - accuracy: 0.8639\n",
            "Epoch 62/100\n",
            "250/250 [==============================] - 0s 944us/step - loss: 0.3330 - accuracy: 0.8649\n",
            "Epoch 63/100\n",
            "250/250 [==============================] - 0s 928us/step - loss: 0.3329 - accuracy: 0.8650\n",
            "Epoch 64/100\n",
            "250/250 [==============================] - 0s 869us/step - loss: 0.3331 - accuracy: 0.8646\n",
            "Epoch 65/100\n",
            "250/250 [==============================] - 0s 912us/step - loss: 0.3328 - accuracy: 0.8644\n",
            "Epoch 66/100\n",
            "250/250 [==============================] - 0s 938us/step - loss: 0.3327 - accuracy: 0.8649\n",
            "Epoch 67/100\n",
            "250/250 [==============================] - 0s 915us/step - loss: 0.3330 - accuracy: 0.8641\n",
            "Epoch 68/100\n",
            "250/250 [==============================] - 0s 891us/step - loss: 0.3328 - accuracy: 0.8641\n",
            "Epoch 69/100\n",
            "250/250 [==============================] - 0s 963us/step - loss: 0.3325 - accuracy: 0.8641\n",
            "Epoch 70/100\n",
            "250/250 [==============================] - 0s 876us/step - loss: 0.3327 - accuracy: 0.8659\n",
            "Epoch 71/100\n",
            "250/250 [==============================] - 0s 898us/step - loss: 0.3324 - accuracy: 0.8648\n",
            "Epoch 72/100\n",
            "250/250 [==============================] - 0s 902us/step - loss: 0.3323 - accuracy: 0.8651\n",
            "Epoch 73/100\n",
            "250/250 [==============================] - 0s 911us/step - loss: 0.3322 - accuracy: 0.8648\n",
            "Epoch 74/100\n",
            "250/250 [==============================] - 0s 863us/step - loss: 0.3320 - accuracy: 0.8651\n",
            "Epoch 75/100\n",
            "250/250 [==============================] - 0s 888us/step - loss: 0.3317 - accuracy: 0.8654\n",
            "Epoch 76/100\n",
            "250/250 [==============================] - 0s 877us/step - loss: 0.3323 - accuracy: 0.8645\n",
            "Epoch 77/100\n",
            "250/250 [==============================] - 0s 913us/step - loss: 0.3318 - accuracy: 0.8658\n",
            "Epoch 78/100\n",
            "250/250 [==============================] - 0s 852us/step - loss: 0.3319 - accuracy: 0.8651\n",
            "Epoch 79/100\n",
            "250/250 [==============================] - 0s 850us/step - loss: 0.3314 - accuracy: 0.8646\n",
            "Epoch 80/100\n",
            "250/250 [==============================] - 0s 943us/step - loss: 0.3323 - accuracy: 0.8665\n",
            "Epoch 81/100\n",
            "250/250 [==============================] - 0s 894us/step - loss: 0.3317 - accuracy: 0.8659\n",
            "Epoch 82/100\n",
            "250/250 [==============================] - 0s 880us/step - loss: 0.3316 - accuracy: 0.8644\n",
            "Epoch 83/100\n",
            "250/250 [==============================] - 0s 901us/step - loss: 0.3314 - accuracy: 0.8641\n",
            "Epoch 84/100\n",
            "250/250 [==============================] - 0s 890us/step - loss: 0.3312 - accuracy: 0.8637\n",
            "Epoch 85/100\n",
            "250/250 [==============================] - 0s 888us/step - loss: 0.3313 - accuracy: 0.8652\n",
            "Epoch 86/100\n",
            "250/250 [==============================] - 0s 906us/step - loss: 0.3314 - accuracy: 0.8652\n",
            "Epoch 87/100\n",
            "250/250 [==============================] - 0s 903us/step - loss: 0.3315 - accuracy: 0.8649\n",
            "Epoch 88/100\n",
            "250/250 [==============================] - 0s 909us/step - loss: 0.3308 - accuracy: 0.8646\n",
            "Epoch 89/100\n",
            "250/250 [==============================] - 0s 977us/step - loss: 0.3310 - accuracy: 0.8648\n",
            "Epoch 90/100\n",
            "250/250 [==============================] - 0s 962us/step - loss: 0.3311 - accuracy: 0.8655\n",
            "Epoch 91/100\n",
            "250/250 [==============================] - 0s 908us/step - loss: 0.3315 - accuracy: 0.8643\n",
            "Epoch 92/100\n",
            "250/250 [==============================] - 0s 877us/step - loss: 0.3310 - accuracy: 0.8646\n",
            "Epoch 93/100\n",
            "250/250 [==============================] - 0s 915us/step - loss: 0.3309 - accuracy: 0.8660\n",
            "Epoch 94/100\n",
            "250/250 [==============================] - 0s 918us/step - loss: 0.3309 - accuracy: 0.8659\n",
            "Epoch 95/100\n",
            "250/250 [==============================] - 0s 897us/step - loss: 0.3305 - accuracy: 0.8641\n",
            "Epoch 96/100\n",
            "250/250 [==============================] - 0s 878us/step - loss: 0.3307 - accuracy: 0.8651\n",
            "Epoch 97/100\n",
            "250/250 [==============================] - 0s 922us/step - loss: 0.3308 - accuracy: 0.8649\n",
            "Epoch 98/100\n",
            "250/250 [==============================] - 0s 929us/step - loss: 0.3304 - accuracy: 0.8643\n",
            "Epoch 99/100\n",
            "250/250 [==============================] - 0s 864us/step - loss: 0.3308 - accuracy: 0.8646\n",
            "Epoch 100/100\n",
            "250/250 [==============================] - 0s 860us/step - loss: 0.3305 - accuracy: 0.8644\n"
          ],
          "name": "stdout"
        },
        {
          "output_type": "execute_result",
          "data": {
            "text/plain": [
              "<tensorflow.python.keras.callbacks.History at 0x7f82d0b47550>"
            ]
          },
          "metadata": {
            "tags": []
          },
          "execution_count": 62
        }
      ]
    },
    {
      "cell_type": "code",
      "metadata": {
        "id": "lPUcKdw4jFL3",
        "colab_type": "code",
        "colab": {
          "base_uri": "https://localhost:8080/",
          "height": 134
        },
        "outputId": "7b645b86-d7d4-4d33-ce08-50d7b35c2574"
      },
      "source": [
        "y_pred = ann.predict(X_test)\n",
        "print(y_pred)"
      ],
      "execution_count": 63,
      "outputs": [
        {
          "output_type": "stream",
          "text": [
            "[[0.24356341]\n",
            " [0.30020133]\n",
            " [0.09333375]\n",
            " ...\n",
            " [0.19565961]\n",
            " [0.1415948 ]\n",
            " [0.21374199]]\n"
          ],
          "name": "stdout"
        }
      ]
    },
    {
      "cell_type": "code",
      "metadata": {
        "id": "UbYVGJvcjFQV",
        "colab_type": "code",
        "colab": {
          "base_uri": "https://localhost:8080/",
          "height": 134
        },
        "outputId": "7f5bde8b-12dd-4117-9547-bb74324f358f"
      },
      "source": [
        "y_pred = (y_pred > 0.5)\n",
        "print(y_pred)"
      ],
      "execution_count": 64,
      "outputs": [
        {
          "output_type": "stream",
          "text": [
            "[[False]\n",
            " [False]\n",
            " [False]\n",
            " ...\n",
            " [False]\n",
            " [False]\n",
            " [False]]\n"
          ],
          "name": "stdout"
        }
      ]
    },
    {
      "cell_type": "code",
      "metadata": {
        "id": "TX5u9DHVjFUp",
        "colab_type": "code",
        "colab": {
          "base_uri": "https://localhost:8080/",
          "height": 50
        },
        "outputId": "68207c15-5072-42d1-83c3-2b1ba98ceba8"
      },
      "source": [
        "from sklearn.metrics import confusion_matrix\n",
        "cm = confusion_matrix(y_test,y_pred)\n",
        "print(cm)"
      ],
      "execution_count": 65,
      "outputs": [
        {
          "output_type": "stream",
          "text": [
            "[[1507   88]\n",
            " [ 196  209]]\n"
          ],
          "name": "stdout"
        }
      ]
    },
    {
      "cell_type": "code",
      "metadata": {
        "id": "kBOymgZLiYGE",
        "colab_type": "code",
        "colab": {}
      },
      "source": [
        ""
      ],
      "execution_count": null,
      "outputs": []
    },
    {
      "cell_type": "code",
      "metadata": {
        "id": "nkt1KDVcoDJa",
        "colab_type": "code",
        "colab": {}
      },
      "source": [
        ""
      ],
      "execution_count": null,
      "outputs": []
    },
    {
      "cell_type": "code",
      "metadata": {
        "id": "N01787UWiYP2",
        "colab_type": "code",
        "colab": {}
      },
      "source": [
        ""
      ],
      "execution_count": null,
      "outputs": []
    }
  ]
}